{
 "cells": [
  {
   "cell_type": "code",
   "execution_count": 1,
   "metadata": {},
   "outputs": [
    {
     "name": "stdout",
     "output_type": "stream",
     "text": [
      "C:\\Users\\calvarad\\Documents\\ACEE\\fyf_github\\fyf\n"
     ]
    }
   ],
   "source": [
    "import sys\n",
    "sys.path.append(\"../\")\n",
    "\n",
    "from src import Estrategia, agrega_estrategias\n",
    "import sqlite3\n",
    "import pandas as pd\n",
    "\n",
    "#Cargar base de días hábiles\n",
    "dbpath = r'processed_data/db_habiles.db'\n",
    "conn_habiles = sqlite3.connect(dbpath)\n",
    "df_dias_habiles = pd.read_sql('SELECT * FROM HABILES',\n",
    "                         conn_habiles, parse_dates=['Fecha'])\n",
    "\n",
    "# PARAMETROS PARA DEFINIR LA ESTRATEGIA\n",
    "#fecha_ini = datetime.datetime.strptime('2014-01-01', '%Y-%m-%d').date()\n",
    "fecha_ini = pd.to_datetime('2014-01-01').date()\n",
    "fecha_end = pd.to_datetime('2020-11-23').date()\n",
    "\n",
    "afp = 'HABITAT'\n",
    "monto_inicial = 100\n",
    "lag_solicitud = 0"
   ]
  },
  {
   "cell_type": "code",
   "execution_count": 2,
   "metadata": {},
   "outputs": [
    {
     "ename": "OperationalError",
     "evalue": "unable to open database file",
     "output_type": "error",
     "traceback": [
      "\u001b[1;31m---------------------------------------------------------------------------\u001b[0m",
      "\u001b[1;31mOperationalError\u001b[0m                          Traceback (most recent call last)",
      "\u001b[1;32m<ipython-input-2-364de5801f66>\u001b[0m in \u001b[0;36m<module>\u001b[1;34m\u001b[0m\n\u001b[0;32m      7\u001b[0m \u001b[1;33m\u001b[0m\u001b[0m\n\u001b[0;32m      8\u001b[0m df = agrega_estrategias(lista_estrategias, df_dias_habiles,\n\u001b[1;32m----> 9\u001b[1;33m                         afp, monto_inicial, lag_solicitud)\n\u001b[0m\u001b[0;32m     10\u001b[0m \u001b[0mdisplay\u001b[0m\u001b[1;33m(\u001b[0m\u001b[0mdf\u001b[0m\u001b[1;33m.\u001b[0m\u001b[0mhead\u001b[0m\u001b[1;33m(\u001b[0m\u001b[1;36m5\u001b[0m\u001b[1;33m)\u001b[0m\u001b[1;33m)\u001b[0m\u001b[1;33m\u001b[0m\u001b[1;33m\u001b[0m\u001b[0m\n\u001b[0;32m     11\u001b[0m \u001b[0mdisplay\u001b[0m\u001b[1;33m(\u001b[0m\u001b[0mdf\u001b[0m\u001b[1;33m.\u001b[0m\u001b[0mtail\u001b[0m\u001b[1;33m(\u001b[0m\u001b[1;36m5\u001b[0m\u001b[1;33m)\u001b[0m\u001b[1;33m)\u001b[0m\u001b[1;33m\u001b[0m\u001b[1;33m\u001b[0m\u001b[0m\n",
      "\u001b[1;32m~\\Documents\\ACEE\\fyf_github\\fyf\\src\\estrategias.py\u001b[0m in \u001b[0;36magrega_estrategias\u001b[1;34m(lista_estrategias, df_dias_habiles, afp, monto_inicial, lag_solicitud)\u001b[0m\n\u001b[0;32m    123\u001b[0m         df = generate_df_valores_cuota(estrategia, afp, monto_inicial,\n\u001b[0;32m    124\u001b[0m                               \u001b[0mlag_solicitud\u001b[0m\u001b[1;33m[\u001b[0m\u001b[0mi\u001b[0m\u001b[1;33m]\u001b[0m\u001b[1;33m,\u001b[0m\u001b[1;33m\u001b[0m\u001b[1;33m\u001b[0m\u001b[0m\n\u001b[1;32m--> 125\u001b[1;33m                               df_dias_habiles, lag_venta=2, lag_compra=2)\n\u001b[0m\u001b[0;32m    126\u001b[0m         \u001b[0mcol\u001b[0m \u001b[1;33m=\u001b[0m \u001b[1;33m[\u001b[0m\u001b[0mc\u001b[0m \u001b[1;32mfor\u001b[0m \u001b[0mc\u001b[0m \u001b[1;32min\u001b[0m \u001b[0mdf\u001b[0m\u001b[1;33m.\u001b[0m\u001b[0mcolumns\u001b[0m \u001b[1;32mif\u001b[0m \u001b[1;34m'Val'\u001b[0m \u001b[1;32min\u001b[0m \u001b[0mc\u001b[0m\u001b[1;33m]\u001b[0m\u001b[1;33m\u001b[0m\u001b[1;33m\u001b[0m\u001b[0m\n\u001b[0;32m    127\u001b[0m \u001b[1;33m\u001b[0m\u001b[0m\n",
      "\u001b[1;32m~\\Documents\\ACEE\\fyf_github\\fyf\\src\\utils.py\u001b[0m in \u001b[0;36mgenerate_df_valores_cuota\u001b[1;34m(estrategia, afp, monto_inicial, lag_solicitud, df_dias_habiles, lag_venta, lag_compra)\u001b[0m\n\u001b[0;32m     19\u001b[0m     \u001b[0mfecha_end\u001b[0m \u001b[1;33m=\u001b[0m \u001b[0mestrategia\u001b[0m\u001b[1;33m.\u001b[0m\u001b[0mfecha_end\u001b[0m\u001b[1;33m\u001b[0m\u001b[1;33m\u001b[0m\u001b[0m\n\u001b[0;32m     20\u001b[0m \u001b[1;33m\u001b[0m\u001b[0m\n\u001b[1;32m---> 21\u001b[1;33m     \u001b[0mdf_valores\u001b[0m \u001b[1;33m=\u001b[0m \u001b[0mget_df_valores\u001b[0m\u001b[1;33m(\u001b[0m\u001b[0mafp\u001b[0m\u001b[1;33m,\u001b[0m \u001b[0mfecha_ini\u001b[0m\u001b[1;33m,\u001b[0m \u001b[0mfecha_end\u001b[0m\u001b[1;33m)\u001b[0m\u001b[1;33m\u001b[0m\u001b[1;33m\u001b[0m\u001b[0m\n\u001b[0m\u001b[0;32m     22\u001b[0m \u001b[1;33m\u001b[0m\u001b[0m\n\u001b[0;32m     23\u001b[0m     \u001b[0mvalores_ini\u001b[0m \u001b[1;33m=\u001b[0m \u001b[0mget_valores\u001b[0m\u001b[1;33m(\u001b[0m\u001b[0mdf_valores\u001b[0m\u001b[1;33m,\u001b[0m \u001b[0mfecha_ini\u001b[0m\u001b[1;33m)\u001b[0m\u001b[1;33m\u001b[0m\u001b[1;33m\u001b[0m\u001b[0m\n",
      "\u001b[1;32m~\\Documents\\ACEE\\fyf_github\\fyf\\src\\utils.py\u001b[0m in \u001b[0;36mget_df_valores\u001b[1;34m(afp, fecha_ini, fecha_end)\u001b[0m\n\u001b[0;32m     87\u001b[0m \u001b[1;32mdef\u001b[0m \u001b[0mget_df_valores\u001b[0m\u001b[1;33m(\u001b[0m\u001b[0mafp\u001b[0m\u001b[1;33m,\u001b[0m \u001b[0mfecha_ini\u001b[0m\u001b[1;33m,\u001b[0m \u001b[0mfecha_end\u001b[0m\u001b[1;33m)\u001b[0m\u001b[1;33m:\u001b[0m\u001b[1;33m\u001b[0m\u001b[1;33m\u001b[0m\u001b[0m\n\u001b[0;32m     88\u001b[0m     \u001b[0mpath\u001b[0m \u001b[1;33m=\u001b[0m \u001b[1;34mr'../1_valores_cuota/valores_cuota.db'\u001b[0m\u001b[1;33m\u001b[0m\u001b[1;33m\u001b[0m\u001b[0m\n\u001b[1;32m---> 89\u001b[1;33m     \u001b[0mconn\u001b[0m \u001b[1;33m=\u001b[0m \u001b[0msqlite3\u001b[0m\u001b[1;33m.\u001b[0m\u001b[0mconnect\u001b[0m\u001b[1;33m(\u001b[0m\u001b[0mpath\u001b[0m\u001b[1;33m)\u001b[0m\u001b[1;33m\u001b[0m\u001b[1;33m\u001b[0m\u001b[0m\n\u001b[0m\u001b[0;32m     90\u001b[0m \u001b[1;33m\u001b[0m\u001b[0m\n\u001b[0;32m     91\u001b[0m     query = '''\n",
      "\u001b[1;31mOperationalError\u001b[0m: unable to open database file"
     ]
    }
   ],
   "source": [
    "estrategia_a = Estrategia(fecha_ini, fecha_end, 'A')\n",
    "estrategia_e = Estrategia(fecha_ini, fecha_end, 'E')\n",
    "estrategia_ff = Estrategia(fecha_ini, fecha_end, 'FF',\n",
    "                           'raw_data/anuncios_ff.xlsx')\n",
    "\n",
    "lista_estrategias = [estrategia_a, estrategia_e, estrategia_ff]\n",
    "\n",
    "df = agrega_estrategias(lista_estrategias, df_dias_habiles,\n",
    "                        afp, monto_inicial, lag_solicitud)\n",
    "display(df.head(5))\n",
    "display(df.tail(5))"
   ]
  },
  {
   "cell_type": "code",
   "execution_count": null,
   "metadata": {},
   "outputs": [],
   "source": [
    "df.set_index('Fecha').plot()"
   ]
  },
  {
   "cell_type": "markdown",
   "metadata": {},
   "source": [
    "### 2. Comparemos la estrategia FF versus fondo A y fondo E, con LAG = 2"
   ]
  },
  {
   "cell_type": "code",
   "execution_count": null,
   "metadata": {},
   "outputs": [],
   "source": [
    "df = agrega_estrategias(lista_estrategias, df_dias_habiles, \n",
    "                        afp, monto_inicial, lag_solicitud=2)\n",
    "df.set_index('Fecha').plot()"
   ]
  },
  {
   "cell_type": "markdown",
   "metadata": {},
   "source": [
    "### 3. Comparemos fondo A versus estrategia FF con 0 y 2 dias de LAG "
   ]
  },
  {
   "cell_type": "code",
   "execution_count": null,
   "metadata": {},
   "outputs": [],
   "source": [
    "lista_estrategias = [estrategia_a, estrategia_ff, estrategia_ff]\n",
    "\n",
    "df = agrega_estrategias(lista_estrategias, df_dias_habiles,\n",
    "                        afp, monto_inicial, [2, 0, 2])\n",
    "df.set_index('Fecha').plot()"
   ]
  },
  {
   "cell_type": "markdown",
   "metadata": {},
   "source": [
    "### 4. Comparemos fondo A versus estrategia FF verus estrategia \"MAX\"\n",
    "\n",
    "**HIPOTESIS:** Si alguien tiene la capacidad para \"predecir\" al mercado, su curva de rendimientos debería estar entre la curva pasiva y la curva de mejores rendimientos (Estrategia \"MAX\")."
   ]
  },
  {
   "cell_type": "code",
   "execution_count": null,
   "metadata": {},
   "outputs": [],
   "source": [
    "estrategia_max = Estrategia(fecha_ini, fecha_end, 'MAX',\n",
    "                            '../2_avisos_cambio_fondos/optima_HABITAT.xlsx')\n",
    "\n",
    "lista_estrategias = [estrategia_a, estrategia_max, estrategia_ff]\n",
    "\n",
    "df = agrega_estrategias(lista_estrategias, df_dias_habiles, afp, monto_inicial, 0)\n",
    "df.set_index('Fecha').plot()"
   ]
  },
  {
   "cell_type": "markdown",
   "metadata": {},
   "source": [
    "### 5. ¿Cómo le va a una estrategia en diferentes horizontes de tiempo?\n",
    "\n",
    "+ Por ejemplo, supongamos que me quiero jubilar en 3 años.\n",
    "+ Hay diferentes resultados dependiendo del punto de partida. [t, t+ 3 años], [t + x, t + x + 3 años]. Llamemos `offset` a ese `x`\n",
    "+ Dado un horizonte de tiempo, podemos construir una distribución de resultados para cada `offset` x."
   ]
  },
  {
   "cell_type": "code",
   "execution_count": null,
   "metadata": {},
   "outputs": [],
   "source": [
    "estrategias_afp = [Estrategia(fecha_ini, fecha_end, fondo) for fondo in ['A', 'B', 'C', 'D', 'E']]\n",
    "\n",
    "lista_estrategias = estrategias_afp + [estrategia_ff, estrategia_ff]\n",
    "\n",
    "df = agrega_estrategias(lista_estrategias, df_dias_habiles,\n",
    "                        afp, monto_inicial, [2, 2, 2, 2, 2, 0, 2])\n",
    "df.set_index('Fecha').plot()"
   ]
  },
  {
   "cell_type": "code",
   "execution_count": null,
   "metadata": {},
   "outputs": [],
   "source": [
    "horizonte_de_tiempo = pd.Timedelta(3*365, unit=\"d\")\n",
    "beg_period = df.Fecha.min()\n",
    "end_period = df.Fecha.max() - horizonte_de_tiempo\n",
    "\n",
    "all_starting_days_of_experiment = pd.date_range(beg_period, end_period, freq='d')"
   ]
  },
  {
   "cell_type": "code",
   "execution_count": null,
   "metadata": {},
   "outputs": [],
   "source": [
    "relevant_columns = [col for col in df.columns if col != 'Fecha']\n",
    "\n",
    "rows = []\n",
    "for start_date in all_starting_days_of_experiment:\n",
    "    start_data = df.loc[df.Fecha == start_date, relevant_columns]\n",
    "    end_data = df.loc[df.Fecha == start_date + horizonte_de_tiempo, relevant_columns]\n",
    "    rows.append(pd.DataFrame(100* (end_data.values / start_data.values - 1), columns=relevant_columns,\n",
    "                      index=[start_date]))"
   ]
  },
  {
   "cell_type": "code",
   "execution_count": null,
   "metadata": {},
   "outputs": [],
   "source": [
    "results = pd.concat(rows)\n",
    "\n",
    "display(results.head(3))\n",
    "display(results.tail(3))"
   ]
  },
  {
   "cell_type": "code",
   "execution_count": null,
   "metadata": {},
   "outputs": [],
   "source": [
    "import seaborn as sns\n",
    "import matplotlib.pyplot as plt\n",
    "fig, ax = plt.subplots(1, 1)\n",
    "\n",
    "sns.distplot(results.Val_A_lag_2, ax=ax, label=f\"{afp}_A_lag_2\")\n",
    "sns.distplot(results.Val_C_lag_2, ax=ax, label=f\"{afp}_C_lag_2\")\n",
    "sns.distplot(results.Val_E_lag_2, ax=ax, label=f\"{afp}_E_lag_2\")\n",
    "sns.distplot(results.Val_FF_lag_2, ax=ax, label=f\"FF_lag_2\")\n",
    "ax.legend()"
   ]
  },
  {
   "cell_type": "code",
   "execution_count": null,
   "metadata": {},
   "outputs": [],
   "source": [
    "df.describe()"
   ]
  },
  {
   "cell_type": "code",
   "execution_count": null,
   "metadata": {},
   "outputs": [],
   "source": []
  }
 ],
 "metadata": {
  "kernelspec": {
   "display_name": "Python 3",
   "language": "python",
   "name": "python3"
  },
  "language_info": {
   "codemirror_mode": {
    "name": "ipython",
    "version": 3
   },
   "file_extension": ".py",
   "mimetype": "text/x-python",
   "name": "python",
   "nbconvert_exporter": "python",
   "pygments_lexer": "ipython3",
   "version": "3.6.10"
  }
 },
 "nbformat": 4,
 "nbformat_minor": 4
}
