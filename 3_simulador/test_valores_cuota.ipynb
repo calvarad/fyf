{
 "cells": [
  {
   "cell_type": "code",
   "execution_count": 1,
   "metadata": {},
   "outputs": [
    {
     "name": "stdout",
     "output_type": "stream",
     "text": [
      "Data días hábiles cargada. Fecha:  2020-12-03 02:33:00.307946\n",
      "C:\\Users\\calvarad\\Documents\\ACEE\\fyf_github\\fyf\\2_avisos_cambio_fondos\n",
      "Estrategia: FF\n",
      "Fecha Inicio: 2012-01-01\n",
      "Fecha Término: 2015-01-01\n",
      "\n",
      "2012-01-01 - 2012-01-11 : [0, 0, 0, 0, 1.0]\n",
      "2012-01-11 - 2012-03-29 : [1.0, 0, 0, 0, 0]\n",
      "2012-03-29 - 2012-06-19 : [0, 0, 0, 0, 1.0]\n",
      "...\n",
      "Estrategia: A\n",
      "Fecha Inicio: 2012-01-01\n",
      "Fecha Término: 2015-01-01\n",
      "\n",
      "2012-01-01 - 2015-01-01 : [1, 0, 0, 0, 0]\n",
      "\n"
     ]
    }
   ],
   "source": [
    "import datetime\n",
    "import sys\n",
    "\n",
    "sys.path.append(r'../2_avisos_cambio_fondos')\n",
    "\n",
    "from valores_cuota import df_valores_cuota\n",
    "from estrategias import BaseEstrategias\n",
    "\n",
    "\n",
    "fecha_ini = datetime.datetime.strptime('2012-01-01', '%Y-%m-%d').date()\n",
    "fecha_end = datetime.datetime.strptime('2015-01-01', '%Y-%m-%d').date()\n",
    "tipo_estrategia = 'FF'\n",
    "\n",
    "\n",
    "base = BaseEstrategias()\n",
    "\n",
    "est_ff = base.crea_estrategia(fecha_ini, fecha_end, 'FF')\n",
    "est_a = base.crea_estrategia(fecha_ini, fecha_end, 'A')\n",
    "\n",
    "print(est_ff)\n",
    "print(est_a)\n",
    "\n"
   ]
  },
  {
   "cell_type": "code",
   "execution_count": 3,
   "metadata": {},
   "outputs": [
    {
     "name": "stdout",
     "output_type": "stream",
     "text": [
      "[0, 0, 0, 0, 1.0]\n",
      "[1.0, 0, 0, 0, 0]\n",
      "[0, 0, 0, 0, 1.0]\n",
      "[1.0, 0, 0, 0, 0]\n",
      "[0, 0, 0, 0, 1.0]\n",
      "[1.0, 0, 0, 0, 0]\n",
      "[0, 0, 0, 0, 1.0]\n",
      "[1.0, 0, 0, 0, 0]\n",
      "[0, 0, 0, 0, 1.0]\n",
      "[1.0, 0, 0, 0, 0]\n",
      "[0, 0, 0, 0, 1.0]\n",
      "[1.0, 0, 0, 0, 0]\n",
      "[0, 0, 0, 0, 1.0]\n",
      "[0, 0, 0.5, 0, 0.5]\n",
      "[0, 0, 0, 0, 1.0]\n",
      "[0.5, 0, 0, 0, 0.5]\n",
      "[1.0, 0, 0, 0, 0]\n",
      "[0, 0, 0, 0, 1.0]\n"
     ]
    }
   ],
   "source": [
    "afp = 'HABITAT'\n",
    "monto_inicial = 100\n",
    "lag_solicitud = 1\n",
    "\n",
    "df_out = df_valores_cuota(est_ff, afp, monto_inicial, lag_solicitud)\n",
    "\n",
    "df_out"
   ]
  }
 ],
 "metadata": {
  "kernelspec": {
   "display_name": "Python 3",
   "language": "python",
   "name": "python3"
  },
  "language_info": {
   "codemirror_mode": {
    "name": "ipython",
    "version": 3
   },
   "file_extension": ".py",
   "mimetype": "text/x-python",
   "name": "python",
   "nbconvert_exporter": "python",
   "pygments_lexer": "ipython3",
   "version": "3.6.10"
  }
 },
 "nbformat": 4,
 "nbformat_minor": 4
}
