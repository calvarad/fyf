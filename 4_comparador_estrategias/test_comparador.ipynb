{
 "cells": [
  {
   "cell_type": "markdown",
   "metadata": {},
   "source": [
    "# Prueba comparador de estrategias"
   ]
  },
  {
   "cell_type": "code",
   "execution_count": 1,
   "metadata": {},
   "outputs": [
    {
     "data": {
      "text/html": [
       "<div>\n",
       "<style scoped>\n",
       "    .dataframe tbody tr th:only-of-type {\n",
       "        vertical-align: middle;\n",
       "    }\n",
       "\n",
       "    .dataframe tbody tr th {\n",
       "        vertical-align: top;\n",
       "    }\n",
       "\n",
       "    .dataframe thead th {\n",
       "        text-align: right;\n",
       "    }\n",
       "</style>\n",
       "<table border=\"1\" class=\"dataframe\">\n",
       "  <thead>\n",
       "    <tr style=\"text-align: right;\">\n",
       "      <th></th>\n",
       "      <th>Fecha</th>\n",
       "      <th>Val_FF_lag_0</th>\n",
       "      <th>Val_A_lag_0</th>\n",
       "    </tr>\n",
       "  </thead>\n",
       "  <tbody>\n",
       "    <tr>\n",
       "      <th>0</th>\n",
       "      <td>2012-01-01</td>\n",
       "      <td>100.000000</td>\n",
       "      <td>100.000000</td>\n",
       "    </tr>\n",
       "    <tr>\n",
       "      <th>1</th>\n",
       "      <td>2012-01-02</td>\n",
       "      <td>100.056200</td>\n",
       "      <td>99.928964</td>\n",
       "    </tr>\n",
       "    <tr>\n",
       "      <th>2</th>\n",
       "      <td>2012-01-03</td>\n",
       "      <td>100.101829</td>\n",
       "      <td>99.929761</td>\n",
       "    </tr>\n",
       "    <tr>\n",
       "      <th>3</th>\n",
       "      <td>2012-01-04</td>\n",
       "      <td>100.105917</td>\n",
       "      <td>100.813092</td>\n",
       "    </tr>\n",
       "    <tr>\n",
       "      <th>4</th>\n",
       "      <td>2012-01-05</td>\n",
       "      <td>100.216996</td>\n",
       "      <td>100.834698</td>\n",
       "    </tr>\n",
       "    <tr>\n",
       "      <th>...</th>\n",
       "      <td>...</td>\n",
       "      <td>...</td>\n",
       "      <td>...</td>\n",
       "    </tr>\n",
       "    <tr>\n",
       "      <th>1038</th>\n",
       "      <td>2014-12-28</td>\n",
       "      <td>130.761859</td>\n",
       "      <td>136.444175</td>\n",
       "    </tr>\n",
       "    <tr>\n",
       "      <th>1039</th>\n",
       "      <td>2014-12-29</td>\n",
       "      <td>130.797511</td>\n",
       "      <td>136.529363</td>\n",
       "    </tr>\n",
       "    <tr>\n",
       "      <th>1040</th>\n",
       "      <td>2014-12-30</td>\n",
       "      <td>130.805634</td>\n",
       "      <td>136.827182</td>\n",
       "    </tr>\n",
       "    <tr>\n",
       "      <th>1041</th>\n",
       "      <td>2014-12-31</td>\n",
       "      <td>130.946979</td>\n",
       "      <td>136.558583</td>\n",
       "    </tr>\n",
       "    <tr>\n",
       "      <th>1042</th>\n",
       "      <td>2015-01-01</td>\n",
       "      <td>130.946979</td>\n",
       "      <td>136.558583</td>\n",
       "    </tr>\n",
       "  </tbody>\n",
       "</table>\n",
       "<p>1043 rows × 3 columns</p>\n",
       "</div>"
      ],
      "text/plain": [
       "          Fecha  Val_FF_lag_0  Val_A_lag_0\n",
       "0    2012-01-01    100.000000   100.000000\n",
       "1    2012-01-02    100.056200    99.928964\n",
       "2    2012-01-03    100.101829    99.929761\n",
       "3    2012-01-04    100.105917   100.813092\n",
       "4    2012-01-05    100.216996   100.834698\n",
       "...         ...           ...          ...\n",
       "1038 2014-12-28    130.761859   136.444175\n",
       "1039 2014-12-29    130.797511   136.529363\n",
       "1040 2014-12-30    130.805634   136.827182\n",
       "1041 2014-12-31    130.946979   136.558583\n",
       "1042 2015-01-01    130.946979   136.558583\n",
       "\n",
       "[1043 rows x 3 columns]"
      ]
     },
     "execution_count": 1,
     "metadata": {},
     "output_type": "execute_result"
    }
   ],
   "source": [
    "import datetime\n",
    "import pandas as pd\n",
    "import sys\n",
    "\n",
    "sys.path.append(r'../2_avisos_cambio_fondos')\n",
    "sys.path.append(r'../3_simulador')\n",
    "\n",
    "from estrategias import Estrategia\n",
    "from valores_cuota import df_valores_cuota\n",
    "\n",
    "from comparador import agrega_estrategias\n",
    "\n",
    "# PARAMETROS PARA DEFINIR LA ESTRATEGIA\n",
    "fecha_ini = datetime.datetime.strptime('2012-01-01', '%Y-%m-%d').date()\n",
    "fecha_end = datetime.datetime.strptime('2015-01-01', '%Y-%m-%d').date()\n",
    "\n",
    "\n",
    "estrategia_ff = Estrategia(fecha_ini, fecha_end, 'FF', 'anuncios_ff.xlsx')\n",
    "estrategia_a = Estrategia(fecha_ini, fecha_end, 'A')\n",
    "\n",
    "lista_estrategias = [estrategia_ff, estrategia_a]\n",
    "\n",
    "afp = 'HABITAT'\n",
    "monto_inicial = 100\n",
    "lag_solicitud = 0\n",
    "\n",
    "df = agrega_estrategias(lista_estrategias, afp, monto_inicial, lag_solicitud)\n",
    "df"
   ]
  },
  {
   "cell_type": "code",
   "execution_count": 3,
   "metadata": {},
   "outputs": [
    {
     "data": {
      "text/plain": [
       "<matplotlib.axes._subplots.AxesSubplot at 0x168bb11ac50>"
      ]
     },
     "execution_count": 3,
     "metadata": {},
     "output_type": "execute_result"
    },
    {
     "data": {
      "image/png": "[encoded data removed]",
      "text/plain": [
       "<Figure size 432x288 with 1 Axes>"
      ]
     },
     "metadata": {
      "needs_background": "light"
     },
     "output_type": "display_data"
    }
   ],
   "source": [
    "df.set_index('Fecha').plot()"
   ]
  }
 ],
 "metadata": {
  "kernelspec": {
   "display_name": "Python 3",
   "language": "python",
   "name": "python3"
  },
  "language_info": {
   "codemirror_mode": {
    "name": "ipython",
    "version": 3
   },
   "file_extension": ".py",
   "mimetype": "text/x-python",
   "name": "python",
   "nbconvert_exporter": "python",
   "pygments_lexer": "ipython3",
   "version": "3.6.10"
  }
 },
 "nbformat": 4,
 "nbformat_minor": 4
}
