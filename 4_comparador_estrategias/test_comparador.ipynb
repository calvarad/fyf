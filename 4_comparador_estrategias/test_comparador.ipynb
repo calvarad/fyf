{
 "cells": [
  {
   "cell_type": "markdown",
   "metadata": {},
   "source": [
    "# Prueba comparador de estrategias"
   ]
  },
  {
   "cell_type": "code",
   "execution_count": 1,
   "metadata": {},
   "outputs": [
    {
     "data": {
      "text/html": [
       "<div>\n",
       "<style scoped>\n",
       "    .dataframe tbody tr th:only-of-type {\n",
       "        vertical-align: middle;\n",
       "    }\n",
       "\n",
       "    .dataframe tbody tr th {\n",
       "        vertical-align: top;\n",
       "    }\n",
       "\n",
       "    .dataframe thead th {\n",
       "        text-align: right;\n",
       "    }\n",
       "</style>\n",
       "<table border=\"1\" class=\"dataframe\">\n",
       "  <thead>\n",
       "    <tr style=\"text-align: right;\">\n",
       "      <th></th>\n",
       "      <th>Fecha</th>\n",
       "      <th>Val_FF_lag_0</th>\n",
       "      <th>Val_A_lag_0</th>\n",
       "      <th>Val_MAX_lag_0</th>\n",
       "    </tr>\n",
       "  </thead>\n",
       "  <tbody>\n",
       "    <tr>\n",
       "      <th>0</th>\n",
       "      <td>2014-01-01</td>\n",
       "      <td>100.000000</td>\n",
       "      <td>100.000000</td>\n",
       "      <td>100.000000</td>\n",
       "    </tr>\n",
       "    <tr>\n",
       "      <th>1</th>\n",
       "      <td>2014-01-02</td>\n",
       "      <td>100.336932</td>\n",
       "      <td>100.336932</td>\n",
       "      <td>100.033161</td>\n",
       "    </tr>\n",
       "    <tr>\n",
       "      <th>2</th>\n",
       "      <td>2014-01-03</td>\n",
       "      <td>100.253135</td>\n",
       "      <td>100.253135</td>\n",
       "      <td>100.009698</td>\n",
       "    </tr>\n",
       "    <tr>\n",
       "      <th>3</th>\n",
       "      <td>2014-01-04</td>\n",
       "      <td>100.253135</td>\n",
       "      <td>100.253135</td>\n",
       "      <td>100.009698</td>\n",
       "    </tr>\n",
       "    <tr>\n",
       "      <th>4</th>\n",
       "      <td>2014-01-05</td>\n",
       "      <td>100.253135</td>\n",
       "      <td>100.253135</td>\n",
       "      <td>100.009698</td>\n",
       "    </tr>\n",
       "    <tr>\n",
       "      <th>...</th>\n",
       "      <td>...</td>\n",
       "      <td>...</td>\n",
       "      <td>...</td>\n",
       "      <td>...</td>\n",
       "    </tr>\n",
       "    <tr>\n",
       "      <th>2514</th>\n",
       "      <td>2020-11-19</td>\n",
       "      <td>168.894963</td>\n",
       "      <td>181.489112</td>\n",
       "      <td>435.675146</td>\n",
       "    </tr>\n",
       "    <tr>\n",
       "      <th>2515</th>\n",
       "      <td>2020-11-20</td>\n",
       "      <td>168.880442</td>\n",
       "      <td>181.551498</td>\n",
       "      <td>435.824908</td>\n",
       "    </tr>\n",
       "    <tr>\n",
       "      <th>2516</th>\n",
       "      <td>2020-11-21</td>\n",
       "      <td>168.880442</td>\n",
       "      <td>181.551498</td>\n",
       "      <td>435.824908</td>\n",
       "    </tr>\n",
       "    <tr>\n",
       "      <th>2517</th>\n",
       "      <td>2020-11-22</td>\n",
       "      <td>168.880442</td>\n",
       "      <td>181.551498</td>\n",
       "      <td>435.824908</td>\n",
       "    </tr>\n",
       "    <tr>\n",
       "      <th>2518</th>\n",
       "      <td>2020-11-23</td>\n",
       "      <td>169.637828</td>\n",
       "      <td>182.477323</td>\n",
       "      <td>438.047404</td>\n",
       "    </tr>\n",
       "  </tbody>\n",
       "</table>\n",
       "<p>2519 rows × 4 columns</p>\n",
       "</div>"
      ],
      "text/plain": [
       "          Fecha  Val_FF_lag_0  Val_A_lag_0  Val_MAX_lag_0\n",
       "0    2014-01-01    100.000000   100.000000     100.000000\n",
       "1    2014-01-02    100.336932   100.336932     100.033161\n",
       "2    2014-01-03    100.253135   100.253135     100.009698\n",
       "3    2014-01-04    100.253135   100.253135     100.009698\n",
       "4    2014-01-05    100.253135   100.253135     100.009698\n",
       "...         ...           ...          ...            ...\n",
       "2514 2020-11-19    168.894963   181.489112     435.675146\n",
       "2515 2020-11-20    168.880442   181.551498     435.824908\n",
       "2516 2020-11-21    168.880442   181.551498     435.824908\n",
       "2517 2020-11-22    168.880442   181.551498     435.824908\n",
       "2518 2020-11-23    169.637828   182.477323     438.047404\n",
       "\n",
       "[2519 rows x 4 columns]"
      ]
     },
     "execution_count": 1,
     "metadata": {},
     "output_type": "execute_result"
    }
   ],
   "source": [
    "%matplotlib inline\n",
    "\n",
    "import datetime\n",
    "import pandas as pd\n",
    "import sys\n",
    "\n",
    "sys.path.append(r'../2_avisos_cambio_fondos')\n",
    "sys.path.append(r'../3_simulador')\n",
    "\n",
    "from estrategias import Estrategia\n",
    "from valores_cuota import df_valores_cuota\n",
    "\n",
    "from comparador import agrega_estrategias\n",
    "\n",
    "# PARAMETROS PARA DEFINIR LA ESTRATEGIA\n",
    "fecha_ini = datetime.datetime.strptime('2014-01-01', '%Y-%m-%d').date()\n",
    "fecha_end = datetime.datetime.strptime('2020-11-23', '%Y-%m-%d').date()\n",
    "\n",
    "\n",
    "estrategia_ff = Estrategia(fecha_ini, fecha_end, 'FF', 'anuncios_ff.xlsx')\n",
    "estrategia_a = Estrategia(fecha_ini, fecha_end, 'A')\n",
    "\n",
    "# El archivo \"optima_HABITAT\" se puede crear con código en \"data_auxiliar/crea_estrategia_optima.py\"\n",
    "estrategia_optima = Estrategia(fecha_ini, fecha_end, 'MAX', 'optima_HABITAT.xlsx')\n",
    "\n",
    "lista_estrategias = [estrategia_ff, estrategia_a, estrategia_optima]\n",
    "\n",
    "afp = 'HABITAT'\n",
    "monto_inicial = 100\n",
    "lag_solicitud = 0\n",
    "\n",
    "df = agrega_estrategias(lista_estrategias, afp, monto_inicial, lag_solicitud)\n",
    "df"
   ]
  },
  {
   "cell_type": "code",
   "execution_count": 2,
   "metadata": {},
   "outputs": [
    {
     "data": {
      "text/plain": [
       "<matplotlib.axes._subplots.AxesSubplot at 0x21aeacee198>"
      ]
     },
     "execution_count": 2,
     "metadata": {},
     "output_type": "execute_result"
    },
    {
     "data": {
      "image/png": "[encoded data removed]",
      "text/plain": [
       "<Figure size 432x288 with 1 Axes>"
      ]
     },
     "metadata": {
      "needs_background": "light"
     },
     "output_type": "display_data"
    }
   ],
   "source": [
    "df.set_index('Fecha').plot()"
   ]
  },
  {
   "cell_type": "code",
   "execution_count": 3,
   "metadata": {},
   "outputs": [
    {
     "data": {
      "text/plain": [
       "Estrategia: MAX\n",
       "Fecha Inicio: 2014-01-01\n",
       "Fecha Término: 2020-11-23\n",
       "\n",
       "2014-01-01 - 2014-01-31 : [0, 0, 0, 0, 1.0]\n",
       "2014-01-31 - 2014-02-28 : [1.0, 0, 0, 0, 0]\n",
       "2014-02-28 - 2014-03-31 : [0, 0, 0, 0, 1.0]\n",
       "...\n",
       "2020-10-31 - 2020-11-23 : [1.0, 0, 0, 0, 0]"
      ]
     },
     "execution_count": 3,
     "metadata": {},
     "output_type": "execute_result"
    }
   ],
   "source": [
    "estrategia_optima"
   ]
  }
 ],
 "metadata": {
  "kernelspec": {
   "display_name": "Python 3",
   "language": "python",
   "name": "python3"
  },
  "language_info": {
   "codemirror_mode": {
    "name": "ipython",
    "version": 3
   },
   "file_extension": ".py",
   "mimetype": "text/x-python",
   "name": "python",
   "nbconvert_exporter": "python",
   "pygments_lexer": "ipython3",
   "version": "3.6.10"
  }
 },
 "nbformat": 4,
 "nbformat_minor": 4
}
