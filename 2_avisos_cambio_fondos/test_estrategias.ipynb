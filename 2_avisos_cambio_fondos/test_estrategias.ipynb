{
 "cells": [
  {
   "cell_type": "markdown",
   "metadata": {},
   "source": [
    "# Prueba básica del objeto \"BaseEstrategias\""
   ]
  },
  {
   "cell_type": "code",
   "execution_count": 1,
   "metadata": {},
   "outputs": [
    {
     "name": "stdout",
     "output_type": "stream",
     "text": [
      "Estrategia: FF\n",
      "\n",
      "2012-01-01 - 2012-01-11 : [0, 0, 0, 0, 1.0]\n",
      "2012-01-11 - 2012-03-29 : [1.0, 0, 0, 0, 0]\n",
      "2012-03-29 - 2012-06-19 : [0, 0, 0, 0, 1.0]\n",
      "...\n",
      "Estrategia: A\n",
      "\n",
      "2012-01-01 - 2015-01-01 : [1, 0, 0, 0, 0]\n",
      "\n"
     ]
    }
   ],
   "source": [
    "import datetime \n",
    "\n",
    "fecha_ini = datetime.datetime.strptime('2012-01-01', '%Y-%m-%d').date()\n",
    "fecha_end = datetime.datetime.strptime('2015-01-01', '%Y-%m-%d').date()\n",
    "monto = 100\n",
    "tipo_estrategia = 'FF'\n",
    "\n",
    "from estrategias import BaseEstrategias\n",
    "\n",
    "base = BaseEstrategias()\n",
    "\n",
    "est_ff = base.crea_estrategia(fecha_ini, fecha_end, monto, 'FF')\n",
    "est_a = base.crea_estrategia(fecha_ini, fecha_end, monto, 'A')\n",
    "\n",
    "print(est_ff)\n",
    "print(est_a)"
   ]
  },
  {
   "cell_type": "code",
   "execution_count": 4,
   "metadata": {},
   "outputs": [
    {
     "data": {
      "text/plain": [
       "[2012-01-01 - 2012-01-11 : [0, 0, 0, 0, 1.0],\n",
       " 2012-01-11 - 2012-03-29 : [1.0, 0, 0, 0, 0],\n",
       " 2012-03-29 - 2012-06-19 : [0, 0, 0, 0, 1.0],\n",
       " 2012-06-19 - 2012-06-28 : [1.0, 0, 0, 0, 0],\n",
       " 2012-06-28 - 2012-07-19 : [0, 0, 0, 0, 1.0],\n",
       " 2012-07-19 - 2012-08-29 : [1.0, 0, 0, 0, 0],\n",
       " 2012-08-29 - 2013-01-02 : [0, 0, 0, 0, 1.0],\n",
       " 2013-01-02 - 2013-04-03 : [1.0, 0, 0, 0, 0],\n",
       " 2013-04-03 - 2013-07-17 : [0, 0, 0, 0, 1.0],\n",
       " 2013-07-17 - 2013-08-16 : [1.0, 0, 0, 0, 0],\n",
       " 2013-08-16 - 2013-09-06 : [0, 0, 0, 0, 1.0],\n",
       " 2013-09-06 - 2014-01-24 : [1.0, 0, 0, 0, 0],\n",
       " 2014-01-24 - 2014-03-06 : [0, 0, 0, 0, 1.0],\n",
       " 2014-03-06 - 2014-08-01 : [0, 0, 0.5, 0, 0.5],\n",
       " 2014-08-01 - 2014-08-19 : [0, 0, 0, 0, 1.0],\n",
       " 2014-08-19 - 2014-10-30 : [0.5, 0, 0, 0, 0.5],\n",
       " 2014-10-30 - 2014-12-15 : [1.0, 0, 0, 0, 0],\n",
       " 2014-12-15 - 2015-01-01 : [0, 0, 0, 0, 1.0]]"
      ]
     },
     "execution_count": 4,
     "metadata": {},
     "output_type": "execute_result"
    }
   ],
   "source": [
    "pos = est_ff.posiciones\n",
    "pos"
   ]
  },
  {
   "cell_type": "code",
   "execution_count": 5,
   "metadata": {},
   "outputs": [
    {
     "data": {
      "text/plain": [
       "2012-01-01 - 2012-01-11 : [0, 0, 0, 0, 1.0]"
      ]
     },
     "execution_count": 5,
     "metadata": {},
     "output_type": "execute_result"
    }
   ],
   "source": [
    "p0 = pos[0]\n",
    "p0"
   ]
  },
  {
   "cell_type": "code",
   "execution_count": 6,
   "metadata": {},
   "outputs": [
    {
     "name": "stdout",
     "output_type": "stream",
     "text": [
      "2012-01-01\n",
      "2012-01-11\n",
      "[0, 0, 0, 0, 1.0]\n"
     ]
    }
   ],
   "source": [
    "print(p0.fecha_inicio)\n",
    "print(p0.fecha_termino)\n",
    "print(p0.porcentajes)"
   ]
  },
  {
   "cell_type": "code",
   "execution_count": null,
   "metadata": {},
   "outputs": [],
   "source": []
  }
 ],
 "metadata": {
  "kernelspec": {
   "display_name": "Python 3",
   "language": "python",
   "name": "python3"
  },
  "language_info": {
   "codemirror_mode": {
    "name": "ipython",
    "version": 3
   },
   "file_extension": ".py",
   "mimetype": "text/x-python",
   "name": "python",
   "nbconvert_exporter": "python",
   "pygments_lexer": "ipython3",
   "version": "3.6.10"
  }
 },
 "nbformat": 4,
 "nbformat_minor": 4
}
