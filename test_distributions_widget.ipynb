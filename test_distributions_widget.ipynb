{
 "cells": [
  {
   "cell_type": "code",
   "execution_count": 2,
   "metadata": {},
   "outputs": [
    {
     "data": {
      "application/vnd.jupyter.widget-view+json": {
       "model_id": "5392534bace64900a9ca30dde1ce6d38",
       "version_major": 2,
       "version_minor": 0
      },
      "text/plain": [
       "interactive(children=(IntSlider(value=3, description='años_de_horizonte', max=6, min=1), Dropdown(description=…"
      ]
     },
     "metadata": {},
     "output_type": "display_data"
    }
   ],
   "source": [
    "from ipywidgets import interact, interactive, fixed, interact_manual\n",
    "import ipywidgets as widgets\n",
    "import matplotlib\n",
    "import pickle\n",
    "matplotlib.style.use(\"fivethirtyeight\")\n",
    "import sys\n",
    "sys.path.append(\"../\")\n",
    "from src import compare_afp_with_ff_distributions\n",
    "\n",
    "\n",
    "with open('processed_data/horizonte_de_tiempo_data_dict.pickle', 'rb') as handle:\n",
    "    afp_año_dict = pickle.load(handle)\n",
    "    \n",
    "    \n",
    "def fetch_data_and_plot(años_de_horizonte: int, afp: str, lag_fyf):\n",
    "    results = afp_año_dict[afp][años_de_horizonte]\n",
    "    return compare_afp_with_ff_distributions(results, años_de_horizonte, afp, \n",
    "                                  lag_solicitud_afp=0, lag_solicitud_ff=lag_fyf,\n",
    "                                      figsize=(14, 8))\n",
    "    \n",
    "lista_afps = ['CAPITAL', 'CUPRUM', 'HABITAT', 'PLANVITAL', 'PROVIDA', 'MODELO']\n",
    "\n",
    "posibles_años = widgets.IntSlider(min=1, max=6, step=1, value=3)\n",
    "posibles_afps = widgets.Dropdown(\n",
    "    options=lista_afps,\n",
    "    value='CAPITAL',\n",
    "    description='AFP:',\n",
    ")\n",
    "posibles_lags = widgets.IntSlider(min=0, max=4, step=1, value=2)\n",
    "\n",
    "interact(fetch_data_and_plot, años_de_horizonte=posibles_años,\n",
    "        afp=posibles_afps, lag_fyf=posibles_lags);\n"
   ]
  },
  {
   "cell_type": "code",
   "execution_count": 2,
   "metadata": {},
   "outputs": [
    {
     "data": {
      "text/plain": [
       "'3.3.3'"
      ]
     },
     "execution_count": 2,
     "metadata": {},
     "output_type": "execute_result"
    }
   ],
   "source": [
    "matplotlib.__version__"
   ]
  },
  {
   "cell_type": "code",
   "execution_count": null,
   "metadata": {},
   "outputs": [],
   "source": []
  }
 ],
 "metadata": {
  "kernelspec": {
   "display_name": "Python 3",
   "language": "python",
   "name": "python3"
  },
  "language_info": {
   "codemirror_mode": {
    "name": "ipython",
    "version": 3
   },
   "file_extension": ".py",
   "mimetype": "text/x-python",
   "name": "python",
   "nbconvert_exporter": "python",
   "pygments_lexer": "ipython3",
   "version": "3.8.3"
  }
 },
 "nbformat": 4,
 "nbformat_minor": 4
}
