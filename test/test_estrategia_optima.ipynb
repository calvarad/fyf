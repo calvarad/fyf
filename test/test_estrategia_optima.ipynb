{
 "cells": [
  {
   "cell_type": "markdown",
   "metadata": {},
   "source": [
    "# Codigo para probar creación de archivos de estrategia optima (estrategia \"MAX\")"
   ]
  },
  {
   "cell_type": "code",
   "execution_count": 7,
   "metadata": {},
   "outputs": [
    {
     "data": {
      "text/html": [
       "<div>\n",
       "<style scoped>\n",
       "    .dataframe tbody tr th:only-of-type {\n",
       "        vertical-align: middle;\n",
       "    }\n",
       "\n",
       "    .dataframe tbody tr th {\n",
       "        vertical-align: top;\n",
       "    }\n",
       "\n",
       "    .dataframe thead th {\n",
       "        text-align: right;\n",
       "    }\n",
       "</style>\n",
       "<table border=\"1\" class=\"dataframe\">\n",
       "  <thead>\n",
       "    <tr style=\"text-align: right;\">\n",
       "      <th></th>\n",
       "      <th>Fecha inicio</th>\n",
       "      <th>Fecha término</th>\n",
       "      <th>Sugerencia</th>\n",
       "    </tr>\n",
       "  </thead>\n",
       "  <tbody>\n",
       "    <tr>\n",
       "      <th>0</th>\n",
       "      <td>2011-12-31</td>\n",
       "      <td>2012-01-31</td>\n",
       "      <td>100% A</td>\n",
       "    </tr>\n",
       "    <tr>\n",
       "      <th>1</th>\n",
       "      <td>2012-01-31</td>\n",
       "      <td>2012-02-29</td>\n",
       "      <td>100% A</td>\n",
       "    </tr>\n",
       "    <tr>\n",
       "      <th>2</th>\n",
       "      <td>2012-02-29</td>\n",
       "      <td>2012-03-31</td>\n",
       "      <td>100% A</td>\n",
       "    </tr>\n",
       "    <tr>\n",
       "      <th>3</th>\n",
       "      <td>2012-03-31</td>\n",
       "      <td>2012-04-30</td>\n",
       "      <td>100% E</td>\n",
       "    </tr>\n",
       "    <tr>\n",
       "      <th>4</th>\n",
       "      <td>2012-04-30</td>\n",
       "      <td>2012-05-31</td>\n",
       "      <td>100% E</td>\n",
       "    </tr>\n",
       "    <tr>\n",
       "      <th>...</th>\n",
       "      <td>...</td>\n",
       "      <td>...</td>\n",
       "      <td>...</td>\n",
       "    </tr>\n",
       "    <tr>\n",
       "      <th>103</th>\n",
       "      <td>2020-07-31</td>\n",
       "      <td>2020-08-31</td>\n",
       "      <td>100% A</td>\n",
       "    </tr>\n",
       "    <tr>\n",
       "      <th>104</th>\n",
       "      <td>2020-08-31</td>\n",
       "      <td>2020-09-30</td>\n",
       "      <td>100% A</td>\n",
       "    </tr>\n",
       "    <tr>\n",
       "      <th>105</th>\n",
       "      <td>2020-09-30</td>\n",
       "      <td>2020-10-31</td>\n",
       "      <td>100% E</td>\n",
       "    </tr>\n",
       "    <tr>\n",
       "      <th>106</th>\n",
       "      <td>2020-10-31</td>\n",
       "      <td>2020-11-30</td>\n",
       "      <td>100% A</td>\n",
       "    </tr>\n",
       "    <tr>\n",
       "      <th>107</th>\n",
       "      <td>2020-11-30</td>\n",
       "      <td>2020-12-13</td>\n",
       "      <td>100% B</td>\n",
       "    </tr>\n",
       "  </tbody>\n",
       "</table>\n",
       "<p>108 rows × 3 columns</p>\n",
       "</div>"
      ],
      "text/plain": [
       "    Fecha inicio Fecha término Sugerencia\n",
       "0     2011-12-31    2012-01-31     100% A\n",
       "1     2012-01-31    2012-02-29     100% A\n",
       "2     2012-02-29    2012-03-31     100% A\n",
       "3     2012-03-31    2012-04-30     100% E\n",
       "4     2012-04-30    2012-05-31     100% E\n",
       "..           ...           ...        ...\n",
       "103   2020-07-31    2020-08-31     100% A\n",
       "104   2020-08-31    2020-09-30     100% A\n",
       "105   2020-09-30    2020-10-31     100% E\n",
       "106   2020-10-31    2020-11-30     100% A\n",
       "107   2020-11-30    2020-12-13     100% B\n",
       "\n",
       "[108 rows x 3 columns]"
      ]
     },
     "execution_count": 7,
     "metadata": {},
     "output_type": "execute_result"
    }
   ],
   "source": [
    "import datetime\n",
    "import pandas as pd\n",
    "import sqlite3\n",
    "import sys\n",
    "sys.path.append(\"../\")\n",
    "\n",
    "from src import estrategia_optima\n",
    "\n",
    "afp='HABITAT'\n",
    "fecha_ini = datetime.datetime.strptime('2012-01-01', '%Y-%m-%d').date()\n",
    "fecha_end = datetime.datetime.strptime('2021-01-04', '%Y-%m-%d').date()\n",
    "monto_inicial = 100\n",
    "\n",
    "\n",
    "dbpath = r'../processed_data/db_habiles.db'\n",
    "conn_habiles = sqlite3.connect(dbpath)\n",
    "df_dias_habiles = pd.read_sql('SELECT * FROM HABILES',\n",
    "                          conn_habiles, parse_dates=['Fecha'])\n",
    "\n",
    "\n",
    "df = estrategia_optima(afp, df_dias_habiles, fecha_ini, fecha_end, monto_inicial)\n",
    "df"
   ]
  },
  {
   "cell_type": "code",
   "execution_count": 8,
   "metadata": {},
   "outputs": [
    {
     "data": {
      "text/plain": [
       "0      2011-12-31\n",
       "1      2012-01-31\n",
       "2      2012-02-29\n",
       "3      2012-03-31\n",
       "4      2012-04-30\n",
       "          ...    \n",
       "103    2020-07-31\n",
       "104    2020-08-31\n",
       "105    2020-09-30\n",
       "106    2020-10-31\n",
       "107    2020-11-30\n",
       "Name: Fecha inicio, Length: 108, dtype: object"
      ]
     },
     "execution_count": 8,
     "metadata": {},
     "output_type": "execute_result"
    }
   ],
   "source": [
    "df['Fecha inicio']"
   ]
  },
  {
   "cell_type": "code",
   "execution_count": null,
   "metadata": {},
   "outputs": [],
   "source": []
  }
 ],
 "metadata": {
  "kernelspec": {
   "display_name": "Python 3",
   "language": "python",
   "name": "python3"
  },
  "language_info": {
   "codemirror_mode": {
    "name": "ipython",
    "version": 3
   },
   "file_extension": ".py",
   "mimetype": "text/x-python",
   "name": "python",
   "nbconvert_exporter": "python",
   "pygments_lexer": "ipython3",
   "version": "3.8.3"
  }
 },
 "nbformat": 4,
 "nbformat_minor": 4
}
