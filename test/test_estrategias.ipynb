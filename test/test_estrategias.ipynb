{
 "cells": [
  {
   "cell_type": "markdown",
   "metadata": {},
   "source": [
    "# Prueba básica del objeto \"Estrategia\""
   ]
  },
  {
   "cell_type": "code",
   "execution_count": 1,
   "metadata": {},
   "outputs": [
    {
     "name": "stdout",
     "output_type": "stream",
     "text": [
      "Estrategia: FF\n",
      "Fecha Inicio: 2018-01-01\n",
      "Fecha Término: 2021-01-04\n",
      "\n",
      "2018-01-01 - 2018-01-09 : [0.5, 0, 0, 0, 0.5]\n",
      "2018-01-09 - 2018-01-22 : [1.0, 0, 0, 0, 0]\n",
      "2018-01-22 - 2018-02-05 : [0.5, 0, 0, 0, 0.5]\n",
      "...\n",
      "2020-12-16 - 2021-01-04 : [0.3, 0, 0, 0, 0.7]\n",
      "\n",
      "Estrategia: A\n",
      "Fecha Inicio: 2018-01-01\n",
      "Fecha Término: 2021-01-04\n",
      "\n",
      "2018-01-01 - 2021-01-04 : [1, 0, 0, 0, 0]\n",
      "2018-01-01 - 2021-01-04 : [1, 0, 0, 0, 0]\n",
      "\n"
     ]
    }
   ],
   "source": [
    "import datetime \n",
    "import sys\n",
    "sys.path.append(\"../\")\n",
    "\n",
    "from src import Estrategia\n",
    "\n",
    "fecha_ini = datetime.datetime.strptime('2018-01-01', '%Y-%m-%d').date()\n",
    "fecha_end = datetime.datetime.strptime('2021-01-04', '%Y-%m-%d').date()\n",
    "tipo_estrategia = 'FF'\n",
    "\n",
    "\n",
    "est_ff = Estrategia(fecha_ini, fecha_end, 'FF', 'raw_data/anuncios_ff.xlsx')\n",
    "est_a = Estrategia(fecha_ini, fecha_end, 'A')\n",
    "\n",
    "print(est_ff)\n",
    "print(est_a)"
   ]
  },
  {
   "cell_type": "code",
   "execution_count": 2,
   "metadata": {},
   "outputs": [
    {
     "data": {
      "text/plain": [
       "[2018-01-01 - 2018-01-09 : [0.5, 0, 0, 0, 0.5],\n",
       " 2018-01-09 - 2018-01-22 : [1.0, 0, 0, 0, 0],\n",
       " 2018-01-22 - 2018-02-05 : [0.5, 0, 0, 0, 0.5],\n",
       " 2018-02-05 - 2018-02-26 : [0, 0, 0, 0, 1.0],\n",
       " 2018-02-26 - 2018-03-07 : [0.5, 0, 0, 0, 0.5],\n",
       " 2018-03-07 - 2018-03-14 : [1.0, 0, 0, 0, 0],\n",
       " 2018-03-14 - 2018-03-23 : [0, 0, 0.5, 0, 0.5],\n",
       " 2018-03-23 - 2018-04-19 : [0, 0, 0, 0.15, 0.85],\n",
       " 2018-04-19 - 2018-05-04 : [0.5, 0, 0, 0, 0.5],\n",
       " 2018-05-04 - 2018-05-24 : [1.0, 0, 0, 0, 0],\n",
       " 2018-05-24 - 2018-06-06 : [0, 0, 0.5, 0, 0.5],\n",
       " 2018-06-06 - 2018-06-19 : [0.6, 0, 0, 0, 0.4],\n",
       " 2018-06-19 - 2018-06-25 : [0.2, 0, 0, 0, 0.8],\n",
       " 2018-06-25 - 2018-07-09 : [0, 0, 0, 0, 1.0],\n",
       " 2018-07-09 - 2018-07-27 : [0.5, 0, 0, 0, 0.5],\n",
       " 2018-07-27 - 2018-08-20 : [0, 0, 0, 0, 1.0],\n",
       " 2018-08-20 - 2018-08-29 : [0.5, 0, 0, 0, 0.5],\n",
       " 2018-08-29 - 2018-09-05 : [1.0, 0, 0, 0, 0],\n",
       " 2018-09-05 - 2018-09-24 : [0.5, 0, 0, 0, 0.5],\n",
       " 2018-09-24 - 2018-10-05 : [0, 0, 0, 0, 1.0],\n",
       " 2018-10-05 - 2018-10-11 : [0.5, 0, 0, 0, 0.5],\n",
       " 2018-10-11 - 2018-11-05 : [0, 0, 0, 0, 1.0],\n",
       " 2018-11-05 - 2018-11-09 : [0.5, 0, 0, 0, 0.5],\n",
       " 2018-11-09 - 2018-12-12 : [0, 0, 0, 0, 1.0],\n",
       " 2018-12-12 - 2018-12-26 : [0.5, 0, 0, 0, 0.5],\n",
       " 2018-12-26 - 2019-01-18 : [0, 0, 0.4, 0, 0.6],\n",
       " 2019-01-18 - 2019-01-24 : [0, 0, 0, 0, 1.0],\n",
       " 2019-01-24 - 2019-04-16 : [0.5, 0, 0, 0, 0.5],\n",
       " 2019-04-16 - 2019-04-23 : [0, 0, 0, 0, 1.0],\n",
       " 2019-04-23 - 2019-05-02 : [0.5, 0, 0, 0, 0.5],\n",
       " 2019-05-02 - 2019-06-04 : [0, 0, 0, 0, 1.0],\n",
       " 2019-06-04 - 2019-06-26 : [0.5, 0, 0, 0, 0.5],\n",
       " 2019-06-26 - 2019-10-16 : [0, 0, 0, 0, 1.0],\n",
       " 2019-10-16 - 2019-11-11 : [0.5, 0, 0, 0, 0.5],\n",
       " 2019-11-11 - 2019-11-22 : [1.0, 0, 0, 0, 0],\n",
       " 2019-11-22 - 2019-12-16 : [0.5, 0, 0, 0, 0.5],\n",
       " 2019-12-16 - 2020-01-09 : [0, 0, 0, 0, 1.0],\n",
       " 2020-01-09 - 2020-01-16 : [0.5, 0, 0, 0, 0.5],\n",
       " 2020-01-16 - 2020-03-03 : [0, 0, 0, 0, 1.0],\n",
       " 2020-03-03 - 2020-03-12 : [0, 0, 0.5, 0, 0.5],\n",
       " 2020-03-12 - 2020-03-24 : [0, 0, 0, 0, 1.0],\n",
       " 2020-03-24 - 2020-04-01 : [0.4, 0, 0, 0, 0.6],\n",
       " 2020-04-01 - 2020-05-07 : [0.8, 0, 0.2, 0, 0],\n",
       " 2020-05-07 - 2020-05-27 : [0, 0, 0.5, 0, 0.5],\n",
       " 2020-05-27 - 2020-06-16 : [0, 0, 0, 0, 1.0],\n",
       " 2020-06-16 - 2020-07-28 : [0.5, 0, 0, 0, 0.5],\n",
       " 2020-07-28 - 2020-08-06 : [0.25, 0, 0, 0, 0.75],\n",
       " 2020-08-06 - 2020-08-18 : [0.5, 0, 0, 0, 0.5],\n",
       " 2020-08-18 - 2020-09-08 : [0.25, 0, 0, 0, 0.75],\n",
       " 2020-09-08 - 2020-09-23 : [0, 0, 0, 0, 1.0],\n",
       " 2020-09-23 - 2020-09-29 : [0.3, 0, 0, 0, 0.7],\n",
       " 2020-09-29 - 2020-10-15 : [0.6, 0, 0, 0, 0.4],\n",
       " 2020-10-15 - 2020-10-26 : [0.2, 0, 0, 0, 0.8],\n",
       " 2020-10-26 - 2020-11-02 : [0.1, 0, 0, 0, 0.9],\n",
       " 2020-11-02 - 2020-11-06 : [0, 0, 0, 0, 1.0],\n",
       " 2020-11-06 - 2020-11-12 : [0.4, 0, 0, 0, 0.6],\n",
       " 2020-11-12 - 2020-12-01 : [0.8, 0, 0, 0, 0.2],\n",
       " 2020-12-01 - 2020-12-16 : [0.6, 0, 0, 0, 0.4],\n",
       " 2020-12-16 - 2021-01-04 : [0.3, 0, 0, 0, 0.7]]"
      ]
     },
     "execution_count": 2,
     "metadata": {},
     "output_type": "execute_result"
    }
   ],
   "source": [
    "pos = est_ff.posiciones\n",
    "pos"
   ]
  },
  {
   "cell_type": "code",
   "execution_count": 3,
   "metadata": {},
   "outputs": [
    {
     "data": {
      "text/plain": [
       "2018-01-01 - 2018-01-09 : [0.5, 0, 0, 0, 0.5]"
      ]
     },
     "execution_count": 3,
     "metadata": {},
     "output_type": "execute_result"
    }
   ],
   "source": [
    "p0 = pos[0]\n",
    "p0"
   ]
  },
  {
   "cell_type": "code",
   "execution_count": 4,
   "metadata": {},
   "outputs": [
    {
     "name": "stdout",
     "output_type": "stream",
     "text": [
      "2018-01-01\n",
      "2018-01-09\n",
      "[0.5, 0, 0, 0, 0.5]\n"
     ]
    }
   ],
   "source": [
    "print(p0.fecha_inicio)\n",
    "print(p0.fecha_termino)\n",
    "print(p0.porcentajes)"
   ]
  },
  {
   "cell_type": "code",
   "execution_count": 5,
   "metadata": {},
   "outputs": [
    {
     "data": {
      "text/plain": [
       "{datetime.date(2018, 1, 1): 0,\n",
       " datetime.date(2018, 1, 9): 1,\n",
       " datetime.date(2018, 1, 22): 2,\n",
       " datetime.date(2018, 2, 5): 3,\n",
       " datetime.date(2018, 2, 26): 4,\n",
       " datetime.date(2018, 3, 7): 5,\n",
       " datetime.date(2018, 3, 14): 6,\n",
       " datetime.date(2018, 3, 23): 7,\n",
       " datetime.date(2018, 4, 19): 8,\n",
       " datetime.date(2018, 5, 4): 9,\n",
       " datetime.date(2018, 5, 24): 10,\n",
       " datetime.date(2018, 6, 6): 11,\n",
       " datetime.date(2018, 6, 19): 12,\n",
       " datetime.date(2018, 6, 25): 13,\n",
       " datetime.date(2018, 7, 9): 14,\n",
       " datetime.date(2018, 7, 27): 15,\n",
       " datetime.date(2018, 8, 20): 16,\n",
       " datetime.date(2018, 8, 29): 17,\n",
       " datetime.date(2018, 9, 5): 18,\n",
       " datetime.date(2018, 9, 24): 19,\n",
       " datetime.date(2018, 10, 5): 20,\n",
       " datetime.date(2018, 10, 11): 21,\n",
       " datetime.date(2018, 11, 5): 22,\n",
       " datetime.date(2018, 11, 9): 23,\n",
       " datetime.date(2018, 12, 12): 24,\n",
       " datetime.date(2018, 12, 26): 25,\n",
       " datetime.date(2019, 1, 18): 26,\n",
       " datetime.date(2019, 1, 24): 27,\n",
       " datetime.date(2019, 4, 16): 28,\n",
       " datetime.date(2019, 4, 23): 29,\n",
       " datetime.date(2019, 5, 2): 30,\n",
       " datetime.date(2019, 6, 4): 31,\n",
       " datetime.date(2019, 6, 26): 32,\n",
       " datetime.date(2019, 10, 16): 33,\n",
       " datetime.date(2019, 11, 11): 34,\n",
       " datetime.date(2019, 11, 22): 35,\n",
       " datetime.date(2019, 12, 16): 36,\n",
       " datetime.date(2020, 1, 9): 37,\n",
       " datetime.date(2020, 1, 16): 38,\n",
       " datetime.date(2020, 3, 3): 39,\n",
       " datetime.date(2020, 3, 12): 40,\n",
       " datetime.date(2020, 3, 24): 41,\n",
       " datetime.date(2020, 4, 1): 42,\n",
       " datetime.date(2020, 5, 7): 43,\n",
       " datetime.date(2020, 5, 27): 44,\n",
       " datetime.date(2020, 6, 16): 45,\n",
       " datetime.date(2020, 7, 28): 46,\n",
       " datetime.date(2020, 8, 6): 47,\n",
       " datetime.date(2020, 8, 18): 48,\n",
       " datetime.date(2020, 9, 8): 49,\n",
       " datetime.date(2020, 9, 23): 50,\n",
       " datetime.date(2020, 9, 29): 51,\n",
       " datetime.date(2020, 10, 15): 52,\n",
       " datetime.date(2020, 10, 26): 53,\n",
       " datetime.date(2020, 11, 2): 54,\n",
       " datetime.date(2020, 11, 6): 55,\n",
       " datetime.date(2020, 11, 12): 56,\n",
       " datetime.date(2020, 12, 1): 57,\n",
       " datetime.date(2020, 12, 16): 58}"
      ]
     },
     "execution_count": 5,
     "metadata": {},
     "output_type": "execute_result"
    }
   ],
   "source": [
    "fechas_cambios = {posicion.fecha_inicio : i for i, posicion in enumerate(est_ff.posiciones)}\n",
    "fechas_cambios"
   ]
  },
  {
   "cell_type": "code",
   "execution_count": 6,
   "metadata": {},
   "outputs": [
    {
     "data": {
      "text/plain": [
       "dict"
      ]
     },
     "execution_count": 6,
     "metadata": {},
     "output_type": "execute_result"
    }
   ],
   "source": [
    "type(fechas_cambios)"
   ]
  },
  {
   "cell_type": "markdown",
   "metadata": {},
   "source": [
    "## Prueba adicional: Test de archivos de estrategia óptima\n",
    "\n",
    "Estos archivos se pueden crear con código en data_auxiliar/crea_estrategia_optima.py"
   ]
  },
  {
   "cell_type": "code",
   "execution_count": 7,
   "metadata": {},
   "outputs": [
    {
     "data": {
      "text/plain": [
       "Estrategia: MAX\n",
       "Fecha Inicio: 2018-01-01\n",
       "Fecha Término: 2020-12-13\n",
       "\n",
       "2018-01-01 - 2018-01-31 : [1.0, 0, 0, 0, 0]\n",
       "2018-01-31 - 2018-02-28 : [0, 0, 0, 0, 1.0]\n",
       "2018-02-28 - 2018-03-31 : [0, 0, 0, 0, 1.0]\n",
       "...\n",
       "2020-11-30 - 2020-12-13 : [0, 1.0, 0, 0, 0]"
      ]
     },
     "execution_count": 7,
     "metadata": {},
     "output_type": "execute_result"
    }
   ],
   "source": [
    "est_max = Estrategia(fecha_ini, fecha_end, 'MAX', 'processed_data/optima_HABITAT.xlsx')\n",
    "est_max"
   ]
  },
  {
   "cell_type": "code",
   "execution_count": null,
   "metadata": {},
   "outputs": [],
   "source": []
  }
 ],
 "metadata": {
  "kernelspec": {
   "display_name": "Python 3",
   "language": "python",
   "name": "python3"
  },
  "language_info": {
   "codemirror_mode": {
    "name": "ipython",
    "version": 3
   },
   "file_extension": ".py",
   "mimetype": "text/x-python",
   "name": "python",
   "nbconvert_exporter": "python",
   "pygments_lexer": "ipython3",
   "version": "3.8.3"
  }
 },
 "nbformat": 4,
 "nbformat_minor": 4
}
